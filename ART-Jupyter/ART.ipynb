{
 "cells": [
  {
   "cell_type": "markdown",
   "metadata": {
    "nteract": {
     "transient": {
      "deleting": false
     }
    }
   },
   "source": [
    "# Invoke-AtomicRedTeam\n",
    "Invoke-AtomicRedTeam is a PowerShell module to execute tests as defined in the atomics folder of Red Canary's Atomic Red Team project. The \"atomics folder\" contains a folder for each Technique defined in the MITRE ATT&CK™ Framework.\n",
    "\n",
    "### Installation\n",
    "\n",
    "This execution framework (Invoke-AtomicRedTeam) works cross-platform on Windows, Linux and MacOS. However, to use it on Linux and Mac you must install PowerShell Core. "
   ]
  },
  {
   "cell_type": "code",
   "execution_count": 1,
   "metadata": {
    "nteract": {
     "transient": {
      "deleting": false
     }
    }
   },
   "outputs": [
    {
     "data": {
      "text/html": [
       "\r\n",
       "<div>\r\n",
       "    <div id='dotnet-interactive-this-cell-2464.f65685bd06af4a438c7d998f87a429c5' style='display: none'>\r\n",
       "        The below script needs to be able to find the current output cell; this is an easy method to get it.\r\n",
       "    </div>\r\n",
       "    <script type='text/javascript'>\r\n",
       "// ensure `require` is available globally\r\n",
       "if (typeof require !== typeof Function || typeof require.config !== typeof Function) {\r\n",
       "    let require_script = document.createElement('script');\r\n",
       "    require_script.setAttribute('src', 'https://cdnjs.cloudflare.com/ajax/libs/require.js/2.3.6/require.min.js');\r\n",
       "    require_script.setAttribute('type', 'text/javascript');\r\n",
       "    require_script.onload = function () {\r\n",
       "        loadDotnetInteractiveApi();\r\n",
       "    };\r\n",
       "\r\n",
       "    document.getElementsByTagName('head')[0].appendChild(require_script);\r\n",
       "}\r\n",
       "else {\r\n",
       "    loadDotnetInteractiveApi();\r\n",
       "}\r\n",
       "\r\n",
       "async function probeAddresses(probingAddresses) {\r\n",
       "    function timeout(ms, promise) {\r\n",
       "        return new Promise(function (resolve, reject) {\r\n",
       "            setTimeout(function () {\r\n",
       "                reject(new Error('timeout'))\r\n",
       "            }, ms)\r\n",
       "            promise.then(resolve, reject)\r\n",
       "        })\r\n",
       "    }\r\n",
       "\r\n",
       "    if (Array.isArray(probingAddresses)) {\r\n",
       "        for (let i = 0; i < probingAddresses.length; i++) {\r\n",
       "\r\n",
       "            let rootUrl = probingAddresses[i];\r\n",
       "\r\n",
       "            if (!rootUrl.endsWith('/')) {\r\n",
       "                rootUrl = `${rootUrl}/`;\r\n",
       "            }\r\n",
       "\r\n",
       "            try {\r\n",
       "                let response = await timeout(1000, fetch(`${rootUrl}discovery`, {\r\n",
       "                    method: 'POST',\r\n",
       "                    cache: 'no-cache',\r\n",
       "                    mode: 'cors',\r\n",
       "                    timeout: 1000,\r\n",
       "                    headers: {\r\n",
       "                        'Content-Type': 'text/plain'\r\n",
       "                    },\r\n",
       "                    body: probingAddresses[i]\r\n",
       "                }));\r\n",
       "\r\n",
       "                if (response.status == 200) {\r\n",
       "                    return rootUrl;\r\n",
       "                }\r\n",
       "            }\r\n",
       "            catch (e) { }\r\n",
       "        }\r\n",
       "    }\r\n",
       "}\r\n",
       "\r\n",
       "function loadDotnetInteractiveApi() {\r\n",
       "    probeAddresses([\"http://10.0.0.170:1026/\", \"http://169.254.158.64:1026/\", \"http://127.0.0.1:1026/\"])\r\n",
       "        .then((root) => {\r\n",
       "            // use probing to find host url and api resources\r\n",
       "            // load interactive helpers and language services\r\n",
       "            let dotnetInteractiveRequire = require.config({\r\n",
       "                context: '2464.f65685bd06af4a438c7d998f87a429c5',\r\n",
       "                paths: {\r\n",
       "                    'dotnet-interactive': `${root}resources`\r\n",
       "                }\r\n",
       "            }) || require;\r\n",
       "\r\n",
       "            let dotnetInteractiveExtensionsRequire = require.config({\r\n",
       "                context: '2464.f65685bd06af4a438c7d998f87a429c5',\r\n",
       "                paths: {\r\n",
       "                    'dotnet-interactive-extensions': `${root}extensions`\r\n",
       "                }\r\n",
       "            }) || require;\r\n",
       "            if (!window.dotnetInteractiveRequire) {\r\n",
       "                window.dotnetInteractiveRequire = dotnetInteractiveRequire;\r\n",
       "            }\r\n",
       "\r\n",
       "            if (!window.dotnetInteractiveExtensionsRequire) {\r\n",
       "                window.dotnetInteractiveExtensionsRequire = dotnetInteractiveExtensionsRequire;\r\n",
       "            }\r\n",
       "\r\n",
       "            window.getExtensionRequire = function(extensionName, extensionCacheBuster) {\r\n",
       "                let paths = {};\r\n",
       "                paths[extensionName] = `${root}extensions/${extensionName}/resources/`;\r\n",
       "                \r\n",
       "                let internalRequire = require.config({\r\n",
       "                    context: extensionCacheBuster,\r\n",
       "                    paths: paths,\r\n",
       "                    urlArgs: `cacheBuster=${extensionCacheBuster}`\r\n",
       "                    }) || require;\r\n",
       "\r\n",
       "                return internalRequire\r\n",
       "            };\r\n",
       "        \r\n",
       "            dotnetInteractiveRequire([\r\n",
       "                    'dotnet-interactive/dotnet-interactive'\r\n",
       "                ],\r\n",
       "                function (dotnet) {\r\n",
       "                    dotnet.init(window);\r\n",
       "                },\r\n",
       "                function (error) {\r\n",
       "                    console.log(error);\r\n",
       "                }\r\n",
       "            );\r\n",
       "        })\r\n",
       "        .catch(error => {console.log(error);});\r\n",
       "    }\r\n",
       "    </script>\r\n",
       "</div>"
      ]
     },
     "metadata": {},
     "output_type": "display_data"
    },
    {
     "data": {
      "text/plain": []
     },
     "metadata": {},
     "output_type": "display_data"
    },
    {
     "name": "stdout",
     "output_type": "stream",
     "text": [
      "\u001b[93mInstallation of Invoke-AtomicRedTeam is complete. You can now use the Invoke-AtomicTest function\u001b[0m\n",
      "\u001b[93mSee Wiki at https://github.com/redcanaryco/invoke-atomicredteam/wiki for complete details\u001b[0m\n"
     ]
    }
   ],
   "source": [
    "IEX (IWR 'https://raw.githubusercontent.com/redcanaryco/invoke-atomicredteam/master/install-atomicredteam.ps1' -UseBasicParsing);\n",
    "Install-AtomicRedTeam -getAtomics -Force"
   ]
  },
  {
   "cell_type": "markdown",
   "metadata": {
    "nteract": {
     "transient": {
      "deleting": false
     }
    }
   },
   "source": [
    "If the Installation failed in Windows, it's because of the Powershell Execution Policy preventing the script execution.  To disable, run the following commands and install the framework once again."
   ]
  },
  {
   "cell_type": "code",
   "execution_count": null,
   "metadata": {
    "nteract": {
     "transient": {
      "deleting": false
     }
    }
   },
   "outputs": [],
   "source": [
    "Set-ExecutionPolicy Bypass -Scope CurrentUser\n",
    "Set-MpPreference -DisableRealtimeMonitoring $true"
   ]
  },
  {
   "cell_type": "markdown",
   "metadata": {
    "nteract": {
     "transient": {
      "deleting": false
     }
    }
   },
   "source": [
    "### Import the Module \n",
    "\n",
    "In order make the `Invoke-AtomicTest` function available for use in your current PowerShell session you must import the module. This is done automatically for you in the PowerShell window where you installed the execution framework, but in the event that you start a new PowerShell window, you will need to re-import the module which can be done as follows."
   ]
  },
  {
   "cell_type": "code",
   "execution_count": 2,
   "metadata": {
    "nteract": {
     "transient": {
      "deleting": false
     }
    }
   },
   "outputs": [],
   "source": [
    "$PathToART = $( if ($IsLinux -or $IsMacOS) { $Env:HOME + \"/AtomicRedTeam\" } else { $env:HOMEDRIVE + \"\\AtomicRedTeam\" })\n",
    "Import-Module \"$PathToART\\invoke-atomicredteam\\Invoke-AtomicRedTeam.psd1\" -Force"
   ]
  },
  {
   "cell_type": "markdown",
   "metadata": {
    "nteract": {
     "transient": {
      "deleting": false
     }
    }
   },
   "source": [
    "## List Atomic Tests\n",
    "\n",
    "Now that the execution framework is installed and the module is imported you are ready to start using it. A good starting point is to list the Technique numbers and test names available for execution.\n",
    "\n",
    "### Show Details Brief\n",
    "\n",
    "Use the `-ShowDetailsBrief` switch to list the tests available for a given technique number."
   ]
  },
  {
   "cell_type": "code",
   "execution_count": 3,
   "metadata": {
    "nteract": {
     "transient": {
      "deleting": false
     }
    }
   },
   "outputs": [
    {
     "name": "stdout",
     "output_type": "stream",
     "text": [
      "\u001b[96mPathToAtomicsFolder = /Users/0x6c/AtomicRedTeam/atomics\n",
      "\u001b[0m\n"
     ]
    },
    {
     "data": {
      "text/plain": []
     },
     "metadata": {},
     "output_type": "display_data"
    },
    {
     "name": "stdout",
     "output_type": "stream",
     "text": [
      "\u001b[96mT1547.007-2 Re-Opened Applications\u001b[0m\n"
     ]
    }
   ],
   "source": [
    "Invoke-AtomicTest T1547.007 -ShowDetailsBrief"
   ]
  },
  {
   "cell_type": "markdown",
   "metadata": {
    "nteract": {
     "transient": {
      "deleting": false
     }
    }
   },
   "source": [
    "If you would like to show details for all techniques, you can use \"All\" as the technique number."
   ]
  },
  {
   "cell_type": "code",
   "execution_count": 4,
   "metadata": {
    "nteract": {
     "transient": {
      "deleting": false
     }
    }
   },
   "outputs": [
    {
     "name": "stdout",
     "output_type": "stream",
     "text": [
      "\u001b[96mPathToAtomicsFolder = /Users/0x6c/AtomicRedTeam/atomics\n",
      "\u001b[0m\n"
     ]
    },
    {
     "data": {
      "text/plain": []
     },
     "metadata": {},
     "output_type": "display_data"
    },
    {
     "name": "stdout",
     "output_type": "stream",
     "text": [
      "\u001b[96mT1560.001-5 Data Compressed - nix - zip\u001b[0m\n",
      "\u001b[96mT1560.001-6 Data Compressed - nix - gzip Single File\u001b[0m\n",
      "\u001b[96mT1560.001-7 Data Compressed - nix - tar Folder or File\u001b[0m\n",
      "\u001b[96mT1560.001-8 Data Encrypted with zip and gpg symmetric\u001b[0m\n",
      "\u001b[96mT1548.001-1 Make and modify binary from C source\u001b[0m\n",
      "\u001b[96mT1548.001-2 Set a SetUID flag on file\u001b[0m\n",
      "\u001b[96mT1548.001-3 Set a SetGID flag on file\u001b[0m\n",
      "\u001b[96mT1496-1 macOS/Linux - Simulate CPU Load with Yes\u001b[0m\n",
      "\u001b[96mT1053.003-1 Cron - Replace crontab with referenced file\u001b[0m\n",
      "\u001b[96mT1053.003-2 Cron - Add script to cron folder\u001b[0m\n",
      "\u001b[96mT1053.004-1 Event Monitor Daemon Persistence\u001b[0m\n",
      "\u001b[96mT1030-1 Data Transfer Size Limits\u001b[0m\n",
      "\u001b[96mT1562.001-5 Disable Carbon Black Response\u001b[0m\n",
      "\u001b[96mT1562.001-6 Disable LittleSnitch\u001b[0m\n",
      "\u001b[96mT1562.001-7 Disable OpenDNS Umbrella\u001b[0m\n",
      "\u001b[96mT1562.001-8 Stop and unload Crowdstrike Falcon on macOS\u001b[0m\n",
      "\u001b[96mT1056.002-1 AppleScript - Prompt User for Password\u001b[0m\n",
      "\u001b[96mT1564.001-1 Create a hidden file in a hidden directory\u001b[0m\n",
      "\u001b[96mT1564.001-2 Mac Hidden file\u001b[0m\n",
      "\u001b[96mT1564.001-5 Hidden files\u001b[0m\n",
      "\u001b[96mT1564.001-6 Hide a Directory\u001b[0m\n",
      "\u001b[96mT1564.001-7 Show all hidden files\u001b[0m\n",
      "\u001b[96mT1529-3 Restart System via `shutdown` - macOS/Linux\u001b[0m\n",
      "\u001b[96mT1529-4 Shutdown System via `shutdown` - macOS/Linux\u001b[0m\n",
      "\u001b[96mT1529-5 Restart System via `reboot` - macOS/Linux\u001b[0m\n",
      "\u001b[96mT1518-3 Find and Display Safari Browser Version\u001b[0m\n",
      "\u001b[96mT1543.004-1 Launch Daemon\u001b[0m\n",
      "\u001b[96mT1135-1 Network Share Discovery\u001b[0m\n",
      "\u001b[96mT1027.002-3 Binary simply packed by UPX\u001b[0m\n",
      "\u001b[96mT1027.002-4 Binary packed by UPX, with modified headers\u001b[0m\n",
      "\u001b[96mT1070.006-1 Set a file's access timestamp\u001b[0m\n",
      "\u001b[96mT1070.006-2 Set a file's modification timestamp\u001b[0m\n",
      "\u001b[96mT1070.006-3 Set a file's creation timestamp\u001b[0m\n",
      "\u001b[96mT1070.006-4 Modify file timestamps using reference file\u001b[0m\n",
      "\u001b[96mT1071.001-3 Malicious User Agents - Nix\u001b[0m\n",
      "\u001b[96mT1555.003-2 Search macOS Safari Cookies\u001b[0m\n",
      "\u001b[96mT1105-1 rsync remote file copy (push)\u001b[0m\n",
      "\u001b[96mT1105-2 rsync remote file copy (pull)\u001b[0m\n",
      "\u001b[96mT1105-3 scp remote file copy (push)\u001b[0m\n",
      "\u001b[96mT1105-4 scp remote file copy (pull)\u001b[0m\n",
      "\u001b[96mT1105-5 sftp remote file copy (push)\u001b[0m\n",
      "\u001b[96mT1105-6 sftp remote file copy (pull)\u001b[0m\n",
      "\u001b[96mT1048-1 Exfiltration Over Alternative Protocol - SSH\u001b[0m\n",
      "\u001b[96mT1048-2 Exfiltration Over Alternative Protocol - SSH\u001b[0m\n",
      "\u001b[96mT1546.005-1 Trap\u001b[0m\n",
      "\u001b[96mT1083-3 Nix File and Diectory Discovery\u001b[0m\n",
      "\u001b[96mT1083-4 Nix File and Directory Discovery 2\u001b[0m\n",
      "\u001b[96mT1046-1 Port Scan\u001b[0m\n",
      "\u001b[96mT1046-2 Port Scan Nmap\u001b[0m\n",
      "\u001b[96mT1074.001-2 Stage data from Discovery.sh\u001b[0m\n",
      "\u001b[96mT1485-2 macOS/Linux - Overwrite file with DD\u001b[0m\n",
      "\u001b[96mT1037.005-1 Add file to Local Library StartupItems\u001b[0m\n",
      "\u001b[96mT1040-2 Packet Capture macOS\u001b[0m\n",
      "\u001b[96mT1552.004-2 Discover Private SSH Keys\u001b[0m\n",
      "\u001b[96mT1552.004-4 Copy Private SSH Keys with rsync\u001b[0m\n",
      "\u001b[96mT1546.004-1 Add command to .bash_profile\u001b[0m\n",
      "\u001b[96mT1546.004-2 Add command to .bashrc\u001b[0m\n",
      "\u001b[96mT1049-3 System Network Connections Discovery Linux & MacOS\u001b[0m\n",
      "\u001b[96mT1082-2 System Information Discovery\u001b[0m\n",
      "\u001b[96mT1082-3 List OS Information\u001b[0m\n",
      "\u001b[96mT1082-7 Hostname Discovery\u001b[0m\n",
      "\u001b[96mT1552.003-1 Search Through Bash History\u001b[0m\n",
      "\u001b[96mT1217-2 List Mozilla Firefox Bookmark Database Files on macOS\u001b[0m\n",
      "\u001b[96mT1217-3 List Google Chrome Bookmark JSON Files on macOS\u001b[0m\n",
      "\u001b[96mT1037.004-1 rc.common\u001b[0m\n",
      "\u001b[96mT1553.004-3 Install root CA on macOS\u001b[0m\n",
      "\u001b[96mT1222.002-1 chmod - Change file or folder mode (numeric mode)\u001b[0m\n",
      "\u001b[96mT1222.002-2 chmod - Change file or folder mode (symbolic mode)\u001b[0m\n",
      "\u001b[96mT1222.002-3 chmod - Change file or folder mode (numeric mode) recursively\u001b[0m\n",
      "\u001b[96mT1222.002-4 chmod - Change file or folder mode (symbolic mode) recursively\u001b[0m\n",
      "\u001b[96mT1222.002-5 chown - Change file or folder ownership and group\u001b[0m\n",
      "\u001b[96mT1222.002-6 chown - Change file or folder ownership and group recursively\u001b[0m\n",
      "\u001b[96mT1222.002-7 chown - Change file or folder mode ownership only\u001b[0m\n",
      "\u001b[96mT1222.002-8 chown - Change file or folder ownership recursively\u001b[0m\n",
      "\u001b[96mT1222.002-9 chattr - Remove immutable file attribute\u001b[0m\n",
      "\u001b[96mT1057-1 Process Discovery - ps\u001b[0m\n",
      "\u001b[96mT1132.001-1 Base64 Encoded data.\u001b[0m\n",
      "\u001b[96mT1546.014-1 Persistance with Event Monitor - emond\u001b[0m\n",
      "\u001b[96mT1562.003-1 Disable history collection\u001b[0m\n",
      "\u001b[96mT1090.001-1 Connection Proxy\u001b[0m\n",
      "\u001b[96mT1090.001-2 Connection Proxy for macOS UI\u001b[0m\n",
      "\u001b[96mT1548.003-1 Sudo usage\u001b[0m\n",
      "\u001b[96mT1548.003-2 Unlimited sudo cache timeout\u001b[0m\n",
      "\u001b[96mT1548.003-3 Disable tty_tickets for sudo caching\u001b[0m\n",
      "\u001b[96mT1087.001-1 Enumerate all accounts (Local)\u001b[0m\n",
      "\u001b[96mT1087.001-2 View sudoers access\u001b[0m\n",
      "\u001b[96mT1087.001-3 View accounts with UID 0\u001b[0m\n",
      "\u001b[96mT1087.001-4 List opened files by user\u001b[0m\n",
      "\u001b[96mT1087.001-6 Enumerate users and groups\u001b[0m\n",
      "\u001b[96mT1087.001-7 Enumerate users and groups\u001b[0m\n",
      "\u001b[96mT1201-7 Examine password policy - macOS\u001b[0m\n",
      "\u001b[96mT1033-2 System Owner/User Discovery\u001b[0m\n",
      "\u001b[96mT1518.001-3 Security Software Discovery - ps\u001b[0m\n",
      "\u001b[96mT1069.001-1 Permission Groups Discovery (Local)\u001b[0m\n",
      "\u001b[96mT1571-2 Testing usage of uncommonly used port\u001b[0m\n",
      "\u001b[96mT1564.002-1 Hidden Users\u001b[0m\n",
      "\u001b[96mT1113-1 Screencapture\u001b[0m\n",
      "\u001b[96mT1113-2 Screencapture (silent)\u001b[0m\n",
      "\u001b[96mT1136.001-2 Create a user account on a MacOS system\u001b[0m\n",
      "\u001b[96mT1555.001-1 Keychain\u001b[0m\n",
      "\u001b[96mT1569.001-1 Launchctl\u001b[0m\n",
      "\u001b[96mT1059.004-1 Create and Execute Bash Shell Script\u001b[0m\n",
      "\u001b[96mT1059.004-2 Command-Line Interface\u001b[0m\n",
      "\u001b[96mT1070.004-1 Delete a single file - Linux/macOS\u001b[0m\n",
      "\u001b[96mT1070.004-2 Delete an entire folder - Linux/macOS\u001b[0m\n",
      "\u001b[96mT1070.003-1 Clear Bash history (rm)\u001b[0m\n",
      "\u001b[96mT1070.003-2 Clear Bash history (echo)\u001b[0m\n",
      "\u001b[96mT1070.003-3 Clear Bash history (cat dev/null)\u001b[0m\n",
      "\u001b[96mT1070.003-4 Clear Bash history (ln dev/null)\u001b[0m\n",
      "\u001b[96mT1070.003-6 Clear history of a bunch of shells\u001b[0m\n",
      "\u001b[96mT1070.003-7 Clear and Disable Bash History Logging\u001b[0m\n",
      "\u001b[96mT1070.003-8 Use Space Before Command to Avoid Logging to History\u001b[0m\n",
      "\u001b[96mT1059.002-1 AppleScript\u001b[0m\n",
      "\u001b[96mT1027.001-1 Pad Binary to Change Hash - Linux/macOS dd\u001b[0m\n",
      "\u001b[96mT1543.001-1 Launch Agent\u001b[0m\n",
      "\u001b[96mT1070.002-1 rm -rf\u001b[0m\n",
      "\u001b[96mT1016-3 System Network Configuration Discovery\u001b[0m\n",
      "\u001b[96mT1027-1 Decode base64 Data into Script\u001b[0m\n",
      "\u001b[96mT1553.001-1 Gatekeeper Bypass\u001b[0m\n",
      "\u001b[96mT1018-6 Remote System Discovery - arp nix\u001b[0m\n",
      "\u001b[96mT1018-7 Remote System Discovery - sweep\u001b[0m\n",
      "\u001b[96mT1552.001-1 Extract Browser and System credentials with LaZagne\u001b[0m\n",
      "\u001b[96mT1552.001-2 Extract passwords with grep\u001b[0m\n",
      "\u001b[96mT1547.007-2 Re-Opened Applications\u001b[0m\n"
     ]
    }
   ],
   "source": [
    "Invoke-AtomicTest All -ShowDetailsBrief"
   ]
  },
  {
   "cell_type": "markdown",
   "metadata": {},
   "source": [
    "### Show Details (verbose) \n",
    "\n",
    "Use the `-ShowDetails` switch to show test details, including attack commands, input parameters, and prerequisites for a given technique number."
   ]
  },
  {
   "cell_type": "code",
   "execution_count": 5,
   "metadata": {
    "nteract": {
     "transient": {
      "deleting": false
     }
    }
   },
   "outputs": [
    {
     "name": "stdout",
     "output_type": "stream",
     "text": [
      "\u001b[96mPathToAtomicsFolder = /Users/0x6c/AtomicRedTeam/atomics\n",
      "\u001b[0m\n"
     ]
    },
    {
     "data": {
      "text/plain": []
     },
     "metadata": {},
     "output_type": "display_data"
    },
    {
     "name": "stdout",
     "output_type": "stream",
     "text": [
      "[********BEGIN TEST*******]\n",
      "\u001b[96mTechnique: \u001b[0m\u001b[92mBoot or Logon Autostart Execution: Re-opened Applications T1547.007\u001b[0m\n",
      "\u001b[96mAtomic Test Name: \u001b[0m\u001b[92mRe-Opened Applications\u001b[0m\n",
      "\u001b[96mAtomic Test Number: \u001b[0m\u001b[92m2\u001b[0m\n",
      "\u001b[96mAtomic Test GUID: \u001b[0m\u001b[92m5f5b71da-e03f-42e7-ac98-d63f9e0465cb\u001b[0m\n",
      "\u001b[96mDescription: \u001b[0mMac Defaults\n",
      "[Reference](https://developer.apple.com/library/content/documentation/MacOSX/Conceptual/BPSystemStartup/Chapters/CustomLogin.html)\n",
      "\u001b[93m\n",
      "Attack Commands:\u001b[0m\n",
      "\u001b[96mExecutor: \u001b[0m\u001b[92msh\u001b[0m\n",
      "\u001b[96mElevationRequired: \u001b[0m\u001b[92mTrue\u001b[0m\n",
      "\u001b[96mCommand:\n",
      "\u001b[0m\u001b[92msudo defaults write com.apple.loginwindow LoginHook \u001b[0m\u001b[91m#{script}\u001b[0m\n",
      "\u001b[96mCommand (with inputs):\n",
      "\u001b[0m\u001b[92msudo defaults write com.apple.loginwindow LoginHook /path/to/script\u001b[0m\n",
      "[!!!!!!!!END TEST!!!!!!!]\n",
      "\n",
      "\n"
     ]
    }
   ],
   "source": [
    "Invoke-AtomicTest T1547.007 -ShowDetails"
   ]
  }
 ],
 "metadata": {
  "kernel_info": {
   "name": ".net-powershell"
  },
  "kernelspec": {
   "display_name": ".NET (PowerShell)",
   "language": "PowerShell",
   "name": ".net-powershell"
  },
  "language_info": {
   "file_extension": ".ps1",
   "mimetype": "text/x-powershell",
   "name": "PowerShell",
   "pygments_lexer": "powershell",
   "version": "7.0"
  },
  "nteract": {
   "version": "0.24.1"
  }
 },
 "nbformat": 4,
 "nbformat_minor": 4
}
